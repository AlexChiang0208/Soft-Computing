{
 "cells": [
  {
   "cell_type": "markdown",
   "id": "8722d179",
   "metadata": {},
   "source": [
    "# 利用 Apriori 演算法觀察加密貨幣之間報酬率的關係\n",
    "* 總共 60 種加密貨幣\n",
    "* 2019/9/1 ~ 2020/9/30 幣安現貨資料"
   ]
  },
  {
   "cell_type": "code",
   "execution_count": 1,
   "id": "bc1148e4",
   "metadata": {},
   "outputs": [],
   "source": [
    "import os\n",
    "import time\n",
    "import pandas as pd\n",
    "import numpy as np\n",
    "import matplotlib.pyplot as plt\n",
    "import seaborn as sns\n",
    "from apyori import apriori"
   ]
  },
  {
   "cell_type": "code",
   "execution_count": 2,
   "id": "548f2490",
   "metadata": {},
   "outputs": [],
   "source": [
    "path = os.getcwd()"
   ]
  },
  {
   "cell_type": "code",
   "execution_count": 3,
   "id": "61df1482",
   "metadata": {},
   "outputs": [
    {
     "data": {
      "text/html": [
       "<div>\n",
       "<style scoped>\n",
       "    .dataframe tbody tr th:only-of-type {\n",
       "        vertical-align: middle;\n",
       "    }\n",
       "\n",
       "    .dataframe tbody tr th {\n",
       "        vertical-align: top;\n",
       "    }\n",
       "\n",
       "    .dataframe thead th {\n",
       "        text-align: right;\n",
       "    }\n",
       "</style>\n",
       "<table border=\"1\" class=\"dataframe\">\n",
       "  <thead>\n",
       "    <tr style=\"text-align: right;\">\n",
       "      <th></th>\n",
       "      <th>BTCUSDT</th>\n",
       "      <th>ETHUSDT</th>\n",
       "      <th>BNBUSDT</th>\n",
       "      <th>NEOUSDT</th>\n",
       "      <th>LTCUSDT</th>\n",
       "      <th>ADAUSDT</th>\n",
       "      <th>XRPUSDT</th>\n",
       "      <th>EOSUSDT</th>\n",
       "      <th>TUSDUSDT</th>\n",
       "      <th>IOTAUSDT</th>\n",
       "      <th>...</th>\n",
       "      <th>MTLUSDT</th>\n",
       "      <th>TOMOUSDT</th>\n",
       "      <th>PERLUSDT</th>\n",
       "      <th>DENTUSDT</th>\n",
       "      <th>MFTUSDT</th>\n",
       "      <th>KEYUSDT</th>\n",
       "      <th>DOCKUSDT</th>\n",
       "      <th>WANUSDT</th>\n",
       "      <th>FUNUSDT</th>\n",
       "      <th>CVCUSDT</th>\n",
       "    </tr>\n",
       "    <tr>\n",
       "      <th>Datetime</th>\n",
       "      <th></th>\n",
       "      <th></th>\n",
       "      <th></th>\n",
       "      <th></th>\n",
       "      <th></th>\n",
       "      <th></th>\n",
       "      <th></th>\n",
       "      <th></th>\n",
       "      <th></th>\n",
       "      <th></th>\n",
       "      <th></th>\n",
       "      <th></th>\n",
       "      <th></th>\n",
       "      <th></th>\n",
       "      <th></th>\n",
       "      <th></th>\n",
       "      <th></th>\n",
       "      <th></th>\n",
       "      <th></th>\n",
       "      <th></th>\n",
       "      <th></th>\n",
       "    </tr>\n",
       "  </thead>\n",
       "  <tbody>\n",
       "    <tr>\n",
       "      <th>2019-09-01 00:00:00</th>\n",
       "      <td>9617.06</td>\n",
       "      <td>172.45</td>\n",
       "      <td>21.3579</td>\n",
       "      <td>8.828</td>\n",
       "      <td>64.70</td>\n",
       "      <td>0.04495</td>\n",
       "      <td>0.25837</td>\n",
       "      <td>3.3235</td>\n",
       "      <td>0.9995</td>\n",
       "      <td>0.2477</td>\n",
       "      <td>...</td>\n",
       "      <td>0.4065</td>\n",
       "      <td>0.4715</td>\n",
       "      <td>0.0869</td>\n",
       "      <td>0.000461</td>\n",
       "      <td>0.001042</td>\n",
       "      <td>0.001425</td>\n",
       "      <td>0.006412</td>\n",
       "      <td>0.3422</td>\n",
       "      <td>0.002698</td>\n",
       "      <td>0.04071</td>\n",
       "    </tr>\n",
       "    <tr>\n",
       "      <th>2019-09-01 01:00:00</th>\n",
       "      <td>9614.99</td>\n",
       "      <td>172.71</td>\n",
       "      <td>21.4553</td>\n",
       "      <td>8.830</td>\n",
       "      <td>64.66</td>\n",
       "      <td>0.04504</td>\n",
       "      <td>0.25754</td>\n",
       "      <td>3.3259</td>\n",
       "      <td>0.9988</td>\n",
       "      <td>0.2478</td>\n",
       "      <td>...</td>\n",
       "      <td>0.4050</td>\n",
       "      <td>0.4756</td>\n",
       "      <td>0.0869</td>\n",
       "      <td>0.000461</td>\n",
       "      <td>0.001047</td>\n",
       "      <td>0.001425</td>\n",
       "      <td>0.006400</td>\n",
       "      <td>0.3381</td>\n",
       "      <td>0.002723</td>\n",
       "      <td>0.04089</td>\n",
       "    </tr>\n",
       "  </tbody>\n",
       "</table>\n",
       "<p>2 rows × 60 columns</p>\n",
       "</div>"
      ],
      "text/plain": [
       "                     BTCUSDT  ETHUSDT  BNBUSDT  NEOUSDT  LTCUSDT  ADAUSDT  \\\n",
       "Datetime                                                                    \n",
       "2019-09-01 00:00:00  9617.06   172.45  21.3579    8.828    64.70  0.04495   \n",
       "2019-09-01 01:00:00  9614.99   172.71  21.4553    8.830    64.66  0.04504   \n",
       "\n",
       "                     XRPUSDT  EOSUSDT  TUSDUSDT  IOTAUSDT  ...  MTLUSDT  \\\n",
       "Datetime                                                   ...            \n",
       "2019-09-01 00:00:00  0.25837   3.3235    0.9995    0.2477  ...   0.4065   \n",
       "2019-09-01 01:00:00  0.25754   3.3259    0.9988    0.2478  ...   0.4050   \n",
       "\n",
       "                     TOMOUSDT  PERLUSDT  DENTUSDT   MFTUSDT   KEYUSDT  \\\n",
       "Datetime                                                                \n",
       "2019-09-01 00:00:00    0.4715    0.0869  0.000461  0.001042  0.001425   \n",
       "2019-09-01 01:00:00    0.4756    0.0869  0.000461  0.001047  0.001425   \n",
       "\n",
       "                     DOCKUSDT  WANUSDT   FUNUSDT  CVCUSDT  \n",
       "Datetime                                                   \n",
       "2019-09-01 00:00:00  0.006412   0.3422  0.002698  0.04071  \n",
       "2019-09-01 01:00:00  0.006400   0.3381  0.002723  0.04089  \n",
       "\n",
       "[2 rows x 60 columns]"
      ]
     },
     "execution_count": 3,
     "metadata": {},
     "output_type": "execute_result"
    }
   ],
   "source": [
    "df = pd.read_csv(path + '/crypto_data.csv', index_col = 'Datetime', parse_dates = True)\n",
    "df.head(2)"
   ]
  },
  {
   "cell_type": "code",
   "execution_count": 4,
   "id": "1d3a0aa7",
   "metadata": {},
   "outputs": [
    {
     "data": {
      "text/plain": [
       "(18251, 60)"
      ]
     },
     "execution_count": 4,
     "metadata": {},
     "output_type": "execute_result"
    }
   ],
   "source": [
    "df.shape"
   ]
  },
  {
   "cell_type": "code",
   "execution_count": 5,
   "id": "e0d4296d",
   "metadata": {},
   "outputs": [
    {
     "data": {
      "text/plain": [
       "False"
      ]
     },
     "execution_count": 5,
     "metadata": {},
     "output_type": "execute_result"
    }
   ],
   "source": [
    "# 是否有缺漏值\n",
    "df.isnull().any().all()"
   ]
  },
  {
   "cell_type": "code",
   "execution_count": 6,
   "id": "a924ffd5",
   "metadata": {
    "scrolled": true
   },
   "outputs": [],
   "source": [
    "# 計算報酬率\n",
    "\n",
    "## log return\n",
    "log_ret = np.log(df/df.shift(1))[1:]\n",
    "\n",
    "## simple return\n",
    "simple_ret = df.pct_change()[1:]"
   ]
  },
  {
   "cell_type": "code",
   "execution_count": 7,
   "id": "1ebbabf6",
   "metadata": {},
   "outputs": [],
   "source": [
    "def tidy_data(threshold, df_ret = log_ret):\n",
    "    \n",
    "    crypto_name = [i[:-4] for i in df_ret.columns]\n",
    "    arr = np.array(df_ret)\n",
    "    records = []\n",
    "\n",
    "    for each_row in arr:\n",
    "        inner_list = []\n",
    "        for ret,name in zip(each_row,crypto_name):\n",
    "            if ret >= threshold:\n",
    "                inner_list.append(name+'_upper')\n",
    "            elif ret <= -threshold:\n",
    "                inner_list.append(name+'_lower')\n",
    "        records.append(inner_list)\n",
    "    return records"
   ]
  },
  {
   "cell_type": "code",
   "execution_count": 8,
   "id": "23a4ed7e",
   "metadata": {
    "scrolled": true
   },
   "outputs": [],
   "source": [
    "records = tidy_data(threshold = 0.01, df_ret = log_ret)"
   ]
  },
  {
   "cell_type": "code",
   "execution_count": 14,
   "id": "b3d4dbd4",
   "metadata": {},
   "outputs": [
    {
     "data": {
      "text/plain": [
       "['THETA_lower', 'ENJ_upper', 'ANKR_lower', 'COCOS_lower', 'WAN_lower']"
      ]
     },
     "execution_count": 14,
     "metadata": {},
     "output_type": "execute_result"
    }
   ],
   "source": [
    "records[0]"
   ]
  },
  {
   "cell_type": "code",
   "execution_count": 15,
   "id": "0f9ef687",
   "metadata": {},
   "outputs": [
    {
     "data": {
      "text/plain": [
       "18250"
      ]
     },
     "execution_count": 15,
     "metadata": {},
     "output_type": "execute_result"
    }
   ],
   "source": [
    "len(records)"
   ]
  },
  {
   "cell_type": "code",
   "execution_count": 10,
   "id": "8d4ccd06",
   "metadata": {},
   "outputs": [],
   "source": [
    "times = []\n",
    "for i in np.linspace(0.001, 0.03, num = 30):\n",
    "    records = tidy_data(threshold = i, df_ret = log_ret)\n",
    "    avg = np.mean([len(j) for j in records])\n",
    "    times.append({'threshold':i, 'avg':avg})"
   ]
  },
  {
   "cell_type": "code",
   "execution_count": 11,
   "id": "4e4c68c9",
   "metadata": {},
   "outputs": [],
   "source": [
    "times = pd.DataFrame(times)"
   ]
  },
  {
   "cell_type": "code",
   "execution_count": 12,
   "id": "ebbda3e3",
   "metadata": {},
   "outputs": [
    {
     "data": {
      "image/png": "[encoded data removed]",
      "text/plain": [
       "<Figure size 1152x432 with 1 Axes>"
      ]
     },
     "metadata": {
      "needs_background": "light"
     },
     "output_type": "display_data"
    }
   ],
   "source": [
    "plt.figure(figsize=(16,6))\n",
    "plt.xlabel('threshold ( * 1000)')\n",
    "threshold_multiply_by1000 = [int(t*1000) for t in times['threshold']]\n",
    "sns.barplot(x = threshold_multiply_by1000, y = times['avg']);"
   ]
  },
  {
   "cell_type": "markdown",
   "id": "0bc54436",
   "metadata": {},
   "source": [
    "## Apply algorithm\n",
    "min_support 設得太低，會完全跑不出來！"
   ]
  },
  {
   "cell_type": "markdown",
   "id": "ee331c8a",
   "metadata": {},
   "source": [
    "* threshold = 0.0006"
   ]
  },
  {
   "cell_type": "code",
   "execution_count": 13,
   "id": "e0af53df",
   "metadata": {},
   "outputs": [],
   "source": [
    "records = tidy_data(threshold = 0.006, df_ret = log_ret)"
   ]
  },
  {
   "cell_type": "code",
   "execution_count": 14,
   "id": "4daf66e6",
   "metadata": {},
   "outputs": [],
   "source": [
    "association_rule = apriori(records, min_support = 0.16, min_confidence = 0.6, min_lift = 2.5)\n",
    "association_results = list(association_rule)"
   ]
  },
  {
   "cell_type": "code",
   "execution_count": 15,
   "id": "19248619",
   "metadata": {},
   "outputs": [
    {
     "name": "stdout",
     "output_type": "stream",
     "text": [
      "Rule: (BAT_lower) -> (ONT_lower)\n",
      "Length: 2\n",
      "Support: 0.16065753424657533\n",
      "Confidence: 0.637391304347826\n",
      "Lift: 2.5453810293977734\n",
      "=====================================\n",
      "Rule: (ONT_lower) -> (BAT_lower)\n",
      "Length: 2\n",
      "Support: 0.16065753424657533\n",
      "Confidence: 0.6415754923413567\n",
      "Lift: 2.5453810293977734\n",
      "=====================================\n",
      "Rule: (IOST_lower) -> (ONT_lower)\n",
      "Length: 2\n",
      "Support: 0.16526027397260273\n",
      "Confidence: 0.6440316036728593\n",
      "Lift: 2.571898636111528\n",
      "=====================================\n",
      "Rule: (ONT_lower) -> (IOST_lower)\n",
      "Length: 2\n",
      "Support: 0.16526027397260273\n",
      "Confidence: 0.6599562363238513\n",
      "Lift: 2.5718986361115284\n",
      "=====================================\n",
      "Rule: (LINK_lower) -> (NEO_lower)\n",
      "Length: 2\n",
      "Support: 0.16087671232876713\n",
      "Confidence: 0.6164182238085241\n",
      "Lift: 2.5974676944136608\n",
      "=====================================\n",
      "Rule: (NEO_lower) -> (LINK_lower)\n",
      "Length: 2\n",
      "Support: 0.16087671232876713\n",
      "Confidence: 0.6779034864927269\n",
      "Lift: 2.5974676944136608\n",
      "=====================================\n",
      "Rule: (NEO_lower) -> (ONT_lower)\n",
      "Length: 2\n",
      "Support: 0.17084931506849316\n",
      "Confidence: 0.7199261140614177\n",
      "Lift: 2.874978464249644\n",
      "=====================================\n",
      "Rule: (ONT_lower) -> (NEO_lower)\n",
      "Length: 2\n",
      "Support: 0.17084931506849316\n",
      "Confidence: 0.6822757111597375\n",
      "Lift: 2.8749784642496445\n",
      "=====================================\n",
      "Rule: (NEO_lower) -> (VET_lower)\n",
      "Length: 2\n",
      "Support: 0.1623013698630137\n",
      "Confidence: 0.6839067190025399\n",
      "Lift: 2.501262048456183\n",
      "=====================================\n",
      "Rule: (NEO_upper) -> (ONT_upper)\n",
      "Length: 2\n",
      "Support: 0.16745205479452055\n",
      "Confidence: 0.680320569902048\n",
      "Lift: 2.603449444477328\n",
      "=====================================\n",
      "Rule: (ONT_upper) -> (NEO_upper)\n",
      "Length: 2\n",
      "Support: 0.16745205479452055\n",
      "Confidence: 0.6408052002516251\n",
      "Lift: 2.603449444477328\n",
      "=====================================\n",
      "count= 11\n"
     ]
    }
   ],
   "source": [
    "count = 0\n",
    "for item in association_results:\n",
    "    #[2][0][0]=>item base   \n",
    "    for item_num in range(0,len(item[2])):\n",
    "        if item[2][item_num][0] == frozenset():\n",
    "            continue\n",
    "        else:\n",
    "            pairBase = item[2][item_num][0] \n",
    "            items = [x for x in pairBase]\n",
    "            r=\"Rule: (\"\n",
    "            for x in range(0,len(items)):\n",
    "                if x==0 :\n",
    "                    r=r+items[x]\n",
    "                else:\n",
    "                    r=r+\", \"+items[x]\n",
    "            r=r+\") -> \"\n",
    "            #[2][0][1]=>item add  \n",
    "            pairAdd = item[2][item_num][1]\n",
    "            items = [x for x in pairAdd]\n",
    "            \n",
    "            for x in range(0, len(items)):\n",
    "                if x==0 :\n",
    "                    r=r+\"(\"+items[x]\n",
    "                else:\n",
    "                    r=r+\", \"+items[x]\n",
    "            r=r+\")\"\n",
    "\n",
    "            #print rule\n",
    "            print(r)\n",
    "            #[0] => all items in the rule\n",
    "            print(\"Length: \"+str(len(item[0])))\n",
    "            #[1] => support\n",
    "            print(\"Support: \" + str(item[1]))\n",
    "            #[2][0][2] => confidence\n",
    "            print(\"Confidence: \" + str(item[2][item_num][2]))\n",
    "            #[2][0][3] => lift\n",
    "            print(\"Lift: \" + str(item[2][item_num][3]))\n",
    "            print(\"=====================================\")\n",
    "            count=count+1\n",
    "print(\"count=\", count)"
   ]
  },
  {
   "cell_type": "markdown",
   "id": "82c3dcc9",
   "metadata": {},
   "source": [
    "* threshold = 0.001"
   ]
  },
  {
   "cell_type": "code",
   "execution_count": 16,
   "id": "179dd725",
   "metadata": {},
   "outputs": [],
   "source": [
    "records = tidy_data(threshold = 0.01, df_ret = log_ret)"
   ]
  },
  {
   "cell_type": "code",
   "execution_count": 17,
   "id": "e4245b70",
   "metadata": {
    "scrolled": true
   },
   "outputs": [],
   "source": [
    "association_rule = apriori(records, min_support = 0.105, min_confidence = 0.5, min_lift = 2)\n",
    "association_results = list(association_rule)"
   ]
  },
  {
   "cell_type": "code",
   "execution_count": 18,
   "id": "4ccb95a5",
   "metadata": {},
   "outputs": [
    {
     "name": "stdout",
     "output_type": "stream",
     "text": [
      "Rule: (ALGO_lower) -> (ATOM_lower)\n",
      "Length: 2\n",
      "Support: 0.10652054794520548\n",
      "Confidence: 0.5440806045340051\n",
      "Lift: 3.000746761180294\n",
      "=====================================\n",
      "Rule: (ATOM_lower) -> (ALGO_lower)\n",
      "Length: 2\n",
      "Support: 0.10652054794520548\n",
      "Confidence: 0.5874886672710788\n",
      "Lift: 3.000746761180294\n",
      "=====================================\n",
      "Rule: (ALGO_lower) -> (FTM_lower)\n",
      "Length: 2\n",
      "Support: 0.10827397260273973\n",
      "Confidence: 0.5530366638678982\n",
      "Lift: 2.418044828842631\n",
      "=====================================\n",
      "Rule: (CELR_lower) -> (FET_lower)\n",
      "Length: 2\n",
      "Support: 0.10690410958904109\n",
      "Confidence: 0.5016713808176909\n",
      "Lift: 2.2314166950823444\n",
      "=====================================\n",
      "Rule: (CELR_lower) -> (ONE_lower)\n",
      "Length: 2\n",
      "Support: 0.11063013698630136\n",
      "Confidence: 0.519156595525842\n",
      "Lift: 2.513158585768333\n",
      "=====================================\n",
      "Rule: (ONE_lower) -> (CELR_lower)\n",
      "Length: 2\n",
      "Support: 0.11063013698630136\n",
      "Confidence: 0.5355437665782493\n",
      "Lift: 2.5131585857683336\n",
      "=====================================\n",
      "Rule: (ENJ_lower) -> (FTM_lower)\n",
      "Length: 2\n",
      "Support: 0.10504109589041095\n",
      "Confidence: 0.541831543244771\n",
      "Lift: 2.3690526267889487\n",
      "=====================================\n",
      "Rule: (FET_lower) -> (FTM_lower)\n",
      "Length: 2\n",
      "Support: 0.1141917808219178\n",
      "Confidence: 0.5079210333902023\n",
      "Lift: 2.220785543692188\n",
      "=====================================\n",
      "Rule: (MATIC_lower) -> (FTM_lower)\n",
      "Length: 2\n",
      "Support: 0.10547945205479452\n",
      "Confidence: 0.5661764705882353\n",
      "Lift: 2.4754960680966205\n",
      "=====================================\n",
      "Rule: (ONE_lower) -> (FTM_lower)\n",
      "Length: 2\n",
      "Support: 0.10619178082191781\n",
      "Confidence: 0.5140583554376658\n",
      "Lift: 2.2476197859936273\n",
      "=====================================\n",
      "Rule: (TOMO_lower) -> (FTM_lower)\n",
      "Length: 2\n",
      "Support: 0.10926027397260274\n",
      "Confidence: 0.5122013871050604\n",
      "Lift: 2.2395005545441666\n",
      "=====================================\n",
      "Rule: (VET_lower) -> (FTM_lower)\n",
      "Length: 2\n",
      "Support: 0.10624657534246576\n",
      "Confidence: 0.5924228536510846\n",
      "Lift: 2.5902532532660025\n",
      "=====================================\n",
      "Rule: (ZIL_lower) -> (FTM_lower)\n",
      "Length: 2\n",
      "Support: 0.10613698630136986\n",
      "Confidence: 0.5771752085816448\n",
      "Lift: 2.5235859023993816\n",
      "=====================================\n",
      "count= 13\n"
     ]
    }
   ],
   "source": [
    "count = 0\n",
    "for item in association_results:\n",
    "    #[2][0][0]=>item base   \n",
    "    for item_num in range(0,len(item[2])):\n",
    "        if item[2][item_num][0] == frozenset():\n",
    "            continue\n",
    "        else:\n",
    "            pairBase = item[2][item_num][0] \n",
    "            items = [x for x in pairBase]\n",
    "            r=\"Rule: (\"\n",
    "            for x in range(0,len(items)):\n",
    "                if x==0 :\n",
    "                    r=r+items[x]\n",
    "                else:\n",
    "                    r=r+\", \"+items[x]\n",
    "            r=r+\") -> \"\n",
    "            #[2][0][1]=>item add  \n",
    "            pairAdd = item[2][item_num][1]\n",
    "            items = [x for x in pairAdd]\n",
    "            \n",
    "            for x in range(0, len(items)):\n",
    "                if x==0 :\n",
    "                    r=r+\"(\"+items[x]\n",
    "                else:\n",
    "                    r=r+\", \"+items[x]\n",
    "            r=r+\")\"\n",
    "\n",
    "            #print rule\n",
    "            print(r)\n",
    "            #[0] => all items in the rule\n",
    "            print(\"Length: \"+str(len(item[0])))\n",
    "            #[1] => support\n",
    "            print(\"Support: \" + str(item[1]))\n",
    "            #[2][0][2] => confidence\n",
    "            print(\"Confidence: \" + str(item[2][item_num][2]))\n",
    "            #[2][0][3] => lift\n",
    "            print(\"Lift: \" + str(item[2][item_num][3]))\n",
    "            print(\"=====================================\")\n",
    "            count=count+1\n",
    "print(\"count=\", count)"
   ]
  },
  {
   "cell_type": "markdown",
   "id": "9852d728",
   "metadata": {},
   "source": [
    "## 參數最佳化\n",
    "跑一次太久了（若 Support 設定太低的值），可能沒辦法做到最佳化"
   ]
  },
  {
   "cell_type": "code",
   "execution_count": 19,
   "id": "385f9b72",
   "metadata": {},
   "outputs": [],
   "source": [
    "def countRuleNum(association_results, output=True):\n",
    "\n",
    "    count = 0\n",
    "    for item in association_results:\n",
    "        #[2][0][0]=>item base   \n",
    "        for item_num in range(0,len(item[2])):\n",
    "            if item[2][item_num][0] == frozenset():\n",
    "                continue\n",
    "            else:\n",
    "                if output:\n",
    "                    pairBase = item[2][item_num][0] \n",
    "                    items = [x for x in pairBase]\n",
    "                    r=\"Rule: (\"\n",
    "                    for x in range(0,len(items)):\n",
    "                        if x==0 :\n",
    "                            r=r+items[x]\n",
    "                        else:\n",
    "                            r=r+\", \"+items[x]\n",
    "                    r=r+\") -> \"\n",
    "                    #[2][0][1]=>item add  \n",
    "                    pairAdd = item[2][item_num][1]\n",
    "                    items = [x for x in pairAdd]\n",
    "\n",
    "                    for x in range(0, len(items)):\n",
    "                        if x==0 :\n",
    "                            r=r+\"(\"+items[x]\n",
    "                        else:\n",
    "                            r=r+\", \"+items[x]\n",
    "                    r=r+\")\"\n",
    "\n",
    "                    #print rule\n",
    "                    print(r)\n",
    "                    #[0] => all items in the rule\n",
    "                    print(\"Length: \"+str(len(item[0])))\n",
    "                    #[1] => support\n",
    "                    print(\"Support: \" + str(item[1]))\n",
    "                    #[2][0][2] => confidence\n",
    "                    print(\"Confidence: \" + str(item[2][item_num][2]))\n",
    "                    #[2][0][3] => lift\n",
    "                    print(\"Lift: \" + str(item[2][item_num][3]))\n",
    "                    print(\"=====================================\")\n",
    "                count=count+1\n",
    "    return count"
   ]
  },
  {
   "cell_type": "code",
   "execution_count": 20,
   "id": "0062f491",
   "metadata": {},
   "outputs": [],
   "source": [
    "# count = []\n",
    "\n",
    "# for i in np.arange(0.001, 0.602, 0.005):\n",
    "#     association_rules = apriori(records, min_support=i, min_confidence=0.2, min_lift=3)\n",
    "#     association_results = list(association_rules)\n",
    "#     relation = countRuleNum(association_results, output=False)\n",
    "    \n",
    "#     count.append({'min_support':i, 'relation':relation})\n",
    "    \n",
    "# count = pd.DataFrame(count)"
   ]
  },
  {
   "cell_type": "code",
   "execution_count": null,
   "id": "f5b88bbd",
   "metadata": {},
   "outputs": [],
   "source": []
  },
  {
   "cell_type": "code",
   "execution_count": null,
   "id": "1124594b",
   "metadata": {},
   "outputs": [],
   "source": []
  },
  {
   "cell_type": "code",
   "execution_count": null,
   "id": "34f43a66",
   "metadata": {},
   "outputs": [],
   "source": []
  }
 ],
 "metadata": {
  "kernelspec": {
   "display_name": "Python 3",
   "language": "python",
   "name": "python3"
  },
  "language_info": {
   "codemirror_mode": {
    "name": "ipython",
    "version": 3
   },
   "file_extension": ".py",
   "mimetype": "text/x-python",
   "name": "python",
   "nbconvert_exporter": "python",
   "pygments_lexer": "ipython3",
   "version": "3.7.4"
  }
 },
 "nbformat": 4,
 "nbformat_minor": 5
}
