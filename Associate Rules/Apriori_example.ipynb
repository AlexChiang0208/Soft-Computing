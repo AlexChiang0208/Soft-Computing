{
 "cells": [
  {
   "cell_type": "markdown",
   "id": "fad54585",
   "metadata": {},
   "source": [
    "# Apriori Algorithm"
   ]
  },
  {
   "cell_type": "code",
   "execution_count": 1,
   "id": "554b0126",
   "metadata": {},
   "outputs": [],
   "source": [
    "import os\n",
    "import pandas as pd\n",
    "import numpy as np\n",
    "import matplotlib.pyplot as plt\n",
    "from apyori import apriori"
   ]
  },
  {
   "cell_type": "code",
   "execution_count": 2,
   "id": "8e77f4ac",
   "metadata": {},
   "outputs": [],
   "source": [
    "path = os.getcwd()"
   ]
  },
  {
   "cell_type": "code",
   "execution_count": 3,
   "id": "93bff610",
   "metadata": {},
   "outputs": [
    {
     "data": {
      "text/html": [
       "<div>\n",
       "<style scoped>\n",
       "    .dataframe tbody tr th:only-of-type {\n",
       "        vertical-align: middle;\n",
       "    }\n",
       "\n",
       "    .dataframe tbody tr th {\n",
       "        vertical-align: top;\n",
       "    }\n",
       "\n",
       "    .dataframe thead th {\n",
       "        text-align: right;\n",
       "    }\n",
       "</style>\n",
       "<table border=\"1\" class=\"dataframe\">\n",
       "  <thead>\n",
       "    <tr style=\"text-align: right;\">\n",
       "      <th></th>\n",
       "      <th>0</th>\n",
       "      <th>1</th>\n",
       "      <th>2</th>\n",
       "      <th>3</th>\n",
       "      <th>4</th>\n",
       "      <th>5</th>\n",
       "      <th>6</th>\n",
       "      <th>7</th>\n",
       "      <th>8</th>\n",
       "      <th>9</th>\n",
       "      <th>10</th>\n",
       "      <th>11</th>\n",
       "      <th>12</th>\n",
       "      <th>13</th>\n",
       "      <th>14</th>\n",
       "      <th>15</th>\n",
       "      <th>16</th>\n",
       "      <th>17</th>\n",
       "      <th>18</th>\n",
       "      <th>19</th>\n",
       "    </tr>\n",
       "  </thead>\n",
       "  <tbody>\n",
       "    <tr>\n",
       "      <th>0</th>\n",
       "      <td>shrimp</td>\n",
       "      <td>almonds</td>\n",
       "      <td>avocado</td>\n",
       "      <td>vegetables mix</td>\n",
       "      <td>green grapes</td>\n",
       "      <td>whole weat flour</td>\n",
       "      <td>yams</td>\n",
       "      <td>cottage cheese</td>\n",
       "      <td>energy drink</td>\n",
       "      <td>tomato juice</td>\n",
       "      <td>low fat yogurt</td>\n",
       "      <td>green tea</td>\n",
       "      <td>honey</td>\n",
       "      <td>salad</td>\n",
       "      <td>mineral water</td>\n",
       "      <td>salmon</td>\n",
       "      <td>antioxydant juice</td>\n",
       "      <td>frozen smoothie</td>\n",
       "      <td>spinach</td>\n",
       "      <td>olive oil</td>\n",
       "    </tr>\n",
       "    <tr>\n",
       "      <th>1</th>\n",
       "      <td>burgers</td>\n",
       "      <td>meatballs</td>\n",
       "      <td>eggs</td>\n",
       "      <td>NaN</td>\n",
       "      <td>NaN</td>\n",
       "      <td>NaN</td>\n",
       "      <td>NaN</td>\n",
       "      <td>NaN</td>\n",
       "      <td>NaN</td>\n",
       "      <td>NaN</td>\n",
       "      <td>NaN</td>\n",
       "      <td>NaN</td>\n",
       "      <td>NaN</td>\n",
       "      <td>NaN</td>\n",
       "      <td>NaN</td>\n",
       "      <td>NaN</td>\n",
       "      <td>NaN</td>\n",
       "      <td>NaN</td>\n",
       "      <td>NaN</td>\n",
       "      <td>NaN</td>\n",
       "    </tr>\n",
       "    <tr>\n",
       "      <th>2</th>\n",
       "      <td>chutney</td>\n",
       "      <td>NaN</td>\n",
       "      <td>NaN</td>\n",
       "      <td>NaN</td>\n",
       "      <td>NaN</td>\n",
       "      <td>NaN</td>\n",
       "      <td>NaN</td>\n",
       "      <td>NaN</td>\n",
       "      <td>NaN</td>\n",
       "      <td>NaN</td>\n",
       "      <td>NaN</td>\n",
       "      <td>NaN</td>\n",
       "      <td>NaN</td>\n",
       "      <td>NaN</td>\n",
       "      <td>NaN</td>\n",
       "      <td>NaN</td>\n",
       "      <td>NaN</td>\n",
       "      <td>NaN</td>\n",
       "      <td>NaN</td>\n",
       "      <td>NaN</td>\n",
       "    </tr>\n",
       "    <tr>\n",
       "      <th>3</th>\n",
       "      <td>turkey</td>\n",
       "      <td>avocado</td>\n",
       "      <td>NaN</td>\n",
       "      <td>NaN</td>\n",
       "      <td>NaN</td>\n",
       "      <td>NaN</td>\n",
       "      <td>NaN</td>\n",
       "      <td>NaN</td>\n",
       "      <td>NaN</td>\n",
       "      <td>NaN</td>\n",
       "      <td>NaN</td>\n",
       "      <td>NaN</td>\n",
       "      <td>NaN</td>\n",
       "      <td>NaN</td>\n",
       "      <td>NaN</td>\n",
       "      <td>NaN</td>\n",
       "      <td>NaN</td>\n",
       "      <td>NaN</td>\n",
       "      <td>NaN</td>\n",
       "      <td>NaN</td>\n",
       "    </tr>\n",
       "    <tr>\n",
       "      <th>4</th>\n",
       "      <td>mineral water</td>\n",
       "      <td>milk</td>\n",
       "      <td>energy bar</td>\n",
       "      <td>whole wheat rice</td>\n",
       "      <td>green tea</td>\n",
       "      <td>NaN</td>\n",
       "      <td>NaN</td>\n",
       "      <td>NaN</td>\n",
       "      <td>NaN</td>\n",
       "      <td>NaN</td>\n",
       "      <td>NaN</td>\n",
       "      <td>NaN</td>\n",
       "      <td>NaN</td>\n",
       "      <td>NaN</td>\n",
       "      <td>NaN</td>\n",
       "      <td>NaN</td>\n",
       "      <td>NaN</td>\n",
       "      <td>NaN</td>\n",
       "      <td>NaN</td>\n",
       "      <td>NaN</td>\n",
       "    </tr>\n",
       "  </tbody>\n",
       "</table>\n",
       "</div>"
      ],
      "text/plain": [
       "              0          1           2                 3             4   \\\n",
       "0         shrimp    almonds     avocado    vegetables mix  green grapes   \n",
       "1        burgers  meatballs        eggs               NaN           NaN   \n",
       "2        chutney        NaN         NaN               NaN           NaN   \n",
       "3         turkey    avocado         NaN               NaN           NaN   \n",
       "4  mineral water       milk  energy bar  whole wheat rice     green tea   \n",
       "\n",
       "                 5     6               7             8             9   \\\n",
       "0  whole weat flour  yams  cottage cheese  energy drink  tomato juice   \n",
       "1               NaN   NaN             NaN           NaN           NaN   \n",
       "2               NaN   NaN             NaN           NaN           NaN   \n",
       "3               NaN   NaN             NaN           NaN           NaN   \n",
       "4               NaN   NaN             NaN           NaN           NaN   \n",
       "\n",
       "               10         11     12     13             14      15  \\\n",
       "0  low fat yogurt  green tea  honey  salad  mineral water  salmon   \n",
       "1             NaN        NaN    NaN    NaN            NaN     NaN   \n",
       "2             NaN        NaN    NaN    NaN            NaN     NaN   \n",
       "3             NaN        NaN    NaN    NaN            NaN     NaN   \n",
       "4             NaN        NaN    NaN    NaN            NaN     NaN   \n",
       "\n",
       "                  16               17       18         19  \n",
       "0  antioxydant juice  frozen smoothie  spinach  olive oil  \n",
       "1                NaN              NaN      NaN        NaN  \n",
       "2                NaN              NaN      NaN        NaN  \n",
       "3                NaN              NaN      NaN        NaN  \n",
       "4                NaN              NaN      NaN        NaN  "
      ]
     },
     "execution_count": 3,
     "metadata": {},
     "output_type": "execute_result"
    }
   ],
   "source": [
    "store_data = pd.read_csv(path + '/store_data.csv', header = None)\n",
    "store_data.head()"
   ]
  },
  {
   "cell_type": "markdown",
   "id": "8f5e061d",
   "metadata": {},
   "source": [
    "## Tidy data"
   ]
  },
  {
   "cell_type": "code",
   "execution_count": 4,
   "id": "a543920e",
   "metadata": {},
   "outputs": [
    {
     "name": "stdout",
     "output_type": "stream",
     "text": [
      "First transaction: ['shrimp', 'almonds', 'avocado', 'vegetables mix', 'green grapes', 'whole weat flour', 'yams', 'cottage cheese', 'energy drink', 'tomato juice', 'low fat yogurt', 'green tea', 'honey', 'salad', 'mineral water', 'salmon', 'antioxydant juice', 'frozen smoothie', 'spinach', 'olive oil']\n"
     ]
    }
   ],
   "source": [
    "records = []\n",
    "\n",
    "for i in range(0, store_data.shape[0]):\n",
    "    \n",
    "    tmp = []\n",
    "    for j in range(0, store_data.shape[1]):\n",
    "        if str(store_data.values[i,j]) != 'nan':\n",
    "            tmp.append([str(store_data.values[i,j])])\n",
    "        else:\n",
    "            break\n",
    "            \n",
    "    records.append([str(tmp[k][0]) for k in range(0, len(tmp))])\n",
    "    tmp = []\n",
    "    \n",
    "print('First transaction:', records[0])"
   ]
  },
  {
   "cell_type": "code",
   "execution_count": 7,
   "id": "7ad732d7",
   "metadata": {},
   "outputs": [
    {
     "data": {
      "text/plain": [
       "(7501, 20)"
      ]
     },
     "execution_count": 7,
     "metadata": {},
     "output_type": "execute_result"
    }
   ],
   "source": [
    "store_data.shape"
   ]
  },
  {
   "cell_type": "markdown",
   "id": "22e5e4d5",
   "metadata": {},
   "source": [
    "## Apply algorithm"
   ]
  },
  {
   "cell_type": "code",
   "execution_count": 12,
   "id": "03e240b3",
   "metadata": {},
   "outputs": [
    {
     "data": {
      "text/plain": [
       "['spaghetti', 'chocolate', 'brownies', 'white wine', 'green tea']"
      ]
     },
     "execution_count": 12,
     "metadata": {},
     "output_type": "execute_result"
    }
   ],
   "source": [
    "records[50]"
   ]
  },
  {
   "cell_type": "code",
   "execution_count": 8,
   "id": "fa7bc09b",
   "metadata": {},
   "outputs": [
    {
     "data": {
      "text/plain": [
       "RelationRecord(items=frozenset({'herb & pepper', 'ground beef'}), support=0.015997866951073192, ordered_statistics=[OrderedStatistic(items_base=frozenset({'herb & pepper'}), items_add=frozenset({'ground beef'}), confidence=0.3234501347708895, lift=3.2919938411349285)])"
      ]
     },
     "execution_count": 8,
     "metadata": {},
     "output_type": "execute_result"
    }
   ],
   "source": [
    "association_rule = apriori(records, min_support = 0.008, min_confidence = 0.2, min_lift = 3)\n",
    "association_results = list(association_rule)\n",
    "association_results[0]"
   ]
  },
  {
   "cell_type": "markdown",
   "id": "3850eabb",
   "metadata": {},
   "source": [
    "## Show result"
   ]
  },
  {
   "cell_type": "code",
   "execution_count": 6,
   "id": "9d97abec",
   "metadata": {},
   "outputs": [
    {
     "name": "stdout",
     "output_type": "stream",
     "text": [
      "Rule: (herb & pepper) -> (ground beef)\n",
      "Length: 2\n",
      "Support: 0.015997866951073192\n",
      "Confidence: 0.3234501347708895\n",
      "Lift: 3.2919938411349285\n",
      "=====================================\n",
      "Rule: (frozen vegetables, spaghetti) -> (ground beef)\n",
      "Length: 3\n",
      "Support: 0.008665511265164644\n",
      "Confidence: 0.31100478468899523\n",
      "Lift: 3.165328208890303\n",
      "=====================================\n",
      "count= 2\n"
     ]
    }
   ],
   "source": [
    "count = 0\n",
    "for item in association_results:\n",
    "    #[2][0][0]=>item base   \n",
    "    for item_num in range(0,len(item[2])):\n",
    "        if item[2][item_num][0] == frozenset():\n",
    "            continue\n",
    "        else:\n",
    "            pairBase = item[2][item_num][0] \n",
    "            items = [x for x in pairBase]\n",
    "            r=\"Rule: (\"\n",
    "            for x in range(0,len(items)):\n",
    "                if x==0 :\n",
    "                    r=r+items[x]\n",
    "                else:\n",
    "                    r=r+\", \"+items[x]\n",
    "            r=r+\") -> \"\n",
    "            #[2][0][1]=>item add  \n",
    "            pairAdd = item[2][item_num][1]\n",
    "            items = [x for x in pairAdd]\n",
    "            \n",
    "            for x in range(0, len(items)):\n",
    "                if x==0 :\n",
    "                    r=r+\"(\"+items[x]\n",
    "                else:\n",
    "                    r=r+\", \"+items[x]\n",
    "            r=r+\")\"\n",
    "\n",
    "            #print rule\n",
    "            print(r)\n",
    "            #[0] => all items in the rule\n",
    "            print(\"Length: \"+str(len(item[0])))\n",
    "            #[1] => support\n",
    "            print(\"Support: \" + str(item[1]))\n",
    "            #[2][0][2] => confidence\n",
    "            print(\"Confidence: \" + str(item[2][item_num][2]))\n",
    "            #[2][0][3] => lift\n",
    "            print(\"Lift: \" + str(item[2][item_num][3]))\n",
    "            print(\"=====================================\")\n",
    "            count=count+1\n",
    "print(\"count=\", count)"
   ]
  },
  {
   "cell_type": "markdown",
   "id": "dd25b85a",
   "metadata": {},
   "source": [
    "## Function"
   ]
  },
  {
   "cell_type": "code",
   "execution_count": 7,
   "id": "151aab4e",
   "metadata": {},
   "outputs": [],
   "source": [
    "def countRuleNum(association_results, output=True):\n",
    "\n",
    "    count = 0\n",
    "    for item in association_results:\n",
    "        #[2][0][0]=>item base   \n",
    "        for item_num in range(0,len(item[2])):\n",
    "            if item[2][item_num][0] == frozenset():\n",
    "                continue\n",
    "            else:\n",
    "                if output:\n",
    "                    pairBase = item[2][item_num][0] \n",
    "                    items = [x for x in pairBase]\n",
    "                    r=\"Rule: (\"\n",
    "                    for x in range(0,len(items)):\n",
    "                        if x==0 :\n",
    "                            r=r+items[x]\n",
    "                        else:\n",
    "                            r=r+\", \"+items[x]\n",
    "                    r=r+\") -> \"\n",
    "                    #[2][0][1]=>item add  \n",
    "                    pairAdd = item[2][item_num][1]\n",
    "                    items = [x for x in pairAdd]\n",
    "\n",
    "                    for x in range(0, len(items)):\n",
    "                        if x==0 :\n",
    "                            r=r+\"(\"+items[x]\n",
    "                        else:\n",
    "                            r=r+\", \"+items[x]\n",
    "                    r=r+\")\"\n",
    "\n",
    "                    #print rule\n",
    "                    print(r)\n",
    "                    #[0] => all items in the rule\n",
    "                    print(\"Length: \"+str(len(item[0])))\n",
    "                    #[1] => support\n",
    "                    print(\"Support: \" + str(item[1]))\n",
    "                    #[2][0][2] => confidence\n",
    "                    print(\"Confidence: \" + str(item[2][item_num][2]))\n",
    "                    #[2][0][3] => lift\n",
    "                    print(\"Lift: \" + str(item[2][item_num][3]))\n",
    "                    print(\"=====================================\")\n",
    "                count=count+1\n",
    "    return count"
   ]
  },
  {
   "cell_type": "markdown",
   "id": "ea81bb2e",
   "metadata": {},
   "source": [
    "## Observation\n",
    "1. the relationship of items\n",
    "2. analyze result from different parameters "
   ]
  },
  {
   "cell_type": "code",
   "execution_count": 8,
   "id": "fe1a3a17",
   "metadata": {},
   "outputs": [
    {
     "name": "stdout",
     "output_type": "stream",
     "text": [
      "['0.001', '0.002', '0.003', '0.004', '0.005', '0.006', '0.007', '0.008', '0.009', '0.010']\n",
      "[2814, 347, 130, 36, 21, 9, 5, 2, 1, 1]\n"
     ]
    }
   ],
   "source": [
    "x = []\n",
    "y = []\n",
    "\n",
    "for i in np.arange(0.001, 0.01+0.001, 0.001):\n",
    "    association_rules = apriori(records, min_support=i, min_confidence=0.2, min_lift=3)\n",
    "    association_results = list(association_rules)\n",
    "    \n",
    "    x.append(\"{:.3f}\".format(i))\n",
    "    y.append(countRuleNum(association_results, output=False))\n",
    "\n",
    "print(x)\n",
    "print(y)"
   ]
  },
  {
   "cell_type": "code",
   "execution_count": 9,
   "id": "1fdd573a",
   "metadata": {},
   "outputs": [
    {
     "data": {
      "image/png": "[encoded data removed]",
      "text/plain": [
       "<Figure size 432x288 with 1 Axes>"
      ]
     },
     "metadata": {
      "needs_background": "light"
     },
     "output_type": "display_data"
    }
   ],
   "source": [
    "x = []\n",
    "y = []\n",
    "\n",
    "for i in np.arange(0.001, 0.01+0.001, 0.001):\n",
    "    association_rules = apriori(records, min_support=i, min_confidence=0.2, min_lift=3)\n",
    "    association_results = list(association_rules)\n",
    "    \n",
    "    x.append(\"{:.3f}\".format(i))\n",
    "    y.append(countRuleNum(association_results, output=False))\n",
    "    \n",
    "df = pd.DataFrame(y,columns=['Number of Rules'], index = x)\n",
    "df.plot(kind='bar')\n",
    "plt.show()"
   ]
  },
  {
   "cell_type": "code",
   "execution_count": null,
   "id": "e7f38309",
   "metadata": {},
   "outputs": [],
   "source": []
  }
 ],
 "metadata": {
  "kernelspec": {
   "display_name": "Python 3",
   "language": "python",
   "name": "python3"
  },
  "language_info": {
   "codemirror_mode": {
    "name": "ipython",
    "version": 3
   },
   "file_extension": ".py",
   "mimetype": "text/x-python",
   "name": "python",
   "nbconvert_exporter": "python",
   "pygments_lexer": "ipython3",
   "version": "3.7.4"
  }
 },
 "nbformat": 4,
 "nbformat_minor": 5
}
